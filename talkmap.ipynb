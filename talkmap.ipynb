{
 "cells": [
  {
   "cell_type": "markdown",
   "metadata": {},
   "source": [
    "# Leaflet cluster map of talk locations\n",
    "\n",
    "Assuming you are working in a Linux or Windows Subsystem for Linux environment, you may need to install some dependencies. Assuming a clean installation, the following will be needed:\n",
    "\n",
    "```bash\n",
    "sudo apt install jupyter\n",
    "sudo apt install python3-pip\n",
    "pip install python-frontmatter getorg --upgrade\n",
    "```\n",
    "\n",
    "After which you can run this from the `_talks/` directory, via:\n",
    "\n",
    "```bash\n",
    " jupyter nbconvert --to notebook --execute talkmap.ipynb --output talkmap_out.ipynb\n",
    "```\n",
    " \n",
    "The `_talks/` directory contains `.md` files of all your talks. This scrapes the location YAML field from each `.md` file, geolocates it with `geopy/Nominatim`, and uses the `getorg` library to output data, HTML, and Javascript for a standalone cluster map."
   ]
  },
  {
   "cell_type": "code",
   "execution_count": 1,
   "metadata": {
    "collapsed": false
   },
   "outputs": [
    {
     "name": "stdout",
     "output_type": "stream",
     "text": [
      "\u001b[33mWARNING: The directory '/home/will/.cache/pip' or its parent directory is not owned or is not writable by the current user. The cache has been disabled. Check the permissions and owner of that directory. If executing pip with sudo, you should use sudo's -H flag.\u001b[0m\u001b[33m\n",
      "\u001b[0mRequirement already satisfied: python-frontmatter in /home/will/software/miniconda3/envs/mie-scattering/lib/python3.9/site-packages (1.1.0)\n",
      "Requirement already satisfied: getorg in /home/will/software/miniconda3/envs/mie-scattering/lib/python3.9/site-packages (0.3.1)\n",
      "Requirement already satisfied: PyYAML in /home/will/software/miniconda3/envs/mie-scattering/lib/python3.9/site-packages (from python-frontmatter) (6.0.2)\n",
      "Requirement already satisfied: geopy in /home/will/software/miniconda3/envs/mie-scattering/lib/python3.9/site-packages (from getorg) (2.4.1)\n",
      "Requirement already satisfied: pygithub in /home/will/software/miniconda3/envs/mie-scattering/lib/python3.9/site-packages (from getorg) (2.8.1)\n",
      "Requirement already satisfied: retrying in /home/will/software/miniconda3/envs/mie-scattering/lib/python3.9/site-packages (from getorg) (1.4.2)\n",
      "Requirement already satisfied: geographiclib<3,>=1.52 in /home/will/software/miniconda3/envs/mie-scattering/lib/python3.9/site-packages (from geopy->getorg) (2.1)\n",
      "Requirement already satisfied: pynacl>=1.4.0 in /home/will/software/miniconda3/envs/mie-scattering/lib/python3.9/site-packages (from pygithub->getorg) (1.6.0)\n",
      "Requirement already satisfied: requests>=2.14.0 in /home/will/software/miniconda3/envs/mie-scattering/lib/python3.9/site-packages (from pygithub->getorg) (2.32.5)\n",
      "Requirement already satisfied: pyjwt>=2.4.0 in /home/will/software/miniconda3/envs/mie-scattering/lib/python3.9/site-packages (from pyjwt[crypto]>=2.4.0->pygithub->getorg) (2.10.1)\n",
      "Requirement already satisfied: typing-extensions>=4.5.0 in /home/will/software/miniconda3/envs/mie-scattering/lib/python3.9/site-packages (from pygithub->getorg) (4.14.0)\n",
      "Requirement already satisfied: urllib3>=1.26.0 in /home/will/software/miniconda3/envs/mie-scattering/lib/python3.9/site-packages (from pygithub->getorg) (2.5.0)\n",
      "Requirement already satisfied: cryptography>=3.4.0 in /home/will/software/miniconda3/envs/mie-scattering/lib/python3.9/site-packages (from pyjwt[crypto]>=2.4.0->pygithub->getorg) (46.0.1)\n",
      "Requirement already satisfied: cffi>=2.0.0 in /home/will/software/miniconda3/envs/mie-scattering/lib/python3.9/site-packages (from cryptography>=3.4.0->pyjwt[crypto]>=2.4.0->pygithub->getorg) (2.0.0)\n",
      "Requirement already satisfied: pycparser in /home/will/software/miniconda3/envs/mie-scattering/lib/python3.9/site-packages (from cffi>=2.0.0->cryptography>=3.4.0->pyjwt[crypto]>=2.4.0->pygithub->getorg) (2.23)\n",
      "Requirement already satisfied: charset_normalizer<4,>=2 in /home/will/software/miniconda3/envs/mie-scattering/lib/python3.9/site-packages (from requests>=2.14.0->pygithub->getorg) (3.4.3)\n",
      "Requirement already satisfied: idna<4,>=2.5 in /home/will/software/miniconda3/envs/mie-scattering/lib/python3.9/site-packages (from requests>=2.14.0->pygithub->getorg) (3.10)\n",
      "Requirement already satisfied: certifi>=2017.4.17 in /home/will/software/miniconda3/envs/mie-scattering/lib/python3.9/site-packages (from requests>=2.14.0->pygithub->getorg) (2025.8.3)\n",
      "\u001b[33mWARNING: Running pip as the 'root' user can result in broken permissions and conflicting behaviour with the system package manager, possibly rendering your system unusable. It is recommended to use a virtual environment instead: https://pip.pypa.io/warnings/venv. Use the --root-user-action option if you know what you are doing and want to suppress this warning.\u001b[0m\u001b[33m\n",
      "\u001b[0mIywidgets and ipyleaflet support disabled. You must be in a Jupyter notebook to use this feature.\n",
      "Error raised:\n",
      "No module named 'ipywidgets'\n",
      "Check that you have enabled ipyleaflet in Jupyter with:\n",
      "    jupyter nbextension enable --py ipyleaflet\n"
     ]
    }
   ],
   "source": [
    "# Start by installing the dependencies\n",
    "!pip install python-frontmatter getorg --upgrade\n",
    "import frontmatter\n",
    "import glob\n",
    "import getorg\n",
    "from geopy import Nominatim\n",
    "from geopy.exc import GeocoderTimedOut"
   ]
  },
  {
   "cell_type": "code",
   "execution_count": 2,
   "metadata": {
    "collapsed": false
   },
   "outputs": [],
   "source": [
    "# Collect the Markdown files\n",
    "g = glob.glob(\"_talks/*.md\")"
   ]
  },
  {
   "cell_type": "code",
   "execution_count": 3,
   "metadata": {
    "collapsed": true
   },
   "outputs": [],
   "source": [
    "# Set the default timeout, in seconds\n",
    "TIMEOUT = 5\n",
    "\n",
    "# Prepare to geolocate\n",
    "geocoder = Nominatim(user_agent=\"academicpages.github.io\")\n",
    "location_dict = {}\n",
    "location = \"\"\n",
    "permalink = \"\"\n",
    "title = \"\""
   ]
  },
  {
   "cell_type": "markdown",
   "metadata": {},
   "source": [
    "In the event that this times out with an error, double check to make sure that the location is can be properly geolocated."
   ]
  },
  {
   "cell_type": "code",
   "execution_count": 4,
   "metadata": {
    "collapsed": false
   },
   "outputs": [
    {
     "name": "stdout",
     "output_type": "stream",
     "text": [
      "2024 Lin-Bridge Exoplanet Symposium<br />SYSU, Zhuhai, China; 广东省珠海市中山大学 中山大学, 2, 大学路, 唐家湾镇, 香洲区, 珠海市, 广东省, 519082, 中国\n",
      "2024 National Conferennce in Planetary Sciences<br />Nanjing; 江苏省南京市 江苏省南京市高淳区人民检察院, 169, 汶溪路, 淳溪街道, 高淳区, 南京市, 江苏省, 211313, 中国\n"
     ]
    }
   ],
   "source": [
    "# Perform geolocation\n",
    "for file in g:\n",
    "    # Read the file\n",
    "    data = frontmatter.load(file)\n",
    "    data = data.to_dict()\n",
    "\n",
    "    # Press on if the location is not present\n",
    "    if 'location' not in data:\n",
    "        continue\n",
    "\n",
    "    # Prepare the description\n",
    "    title = data['title'].strip()\n",
    "    venue = data['venue'].strip()\n",
    "    location = data['location'].strip()\n",
    "    description = f\"{title}<br />{venue}; {location}\"\n",
    "\n",
    "    # Geocode the location and report the status\n",
    "    try:\n",
    "        location_dict[description] = geocoder.geocode(location, timeout=TIMEOUT)\n",
    "        print(description, location_dict[description])\n",
    "    except ValueError as ex:\n",
    "        print(f\"Error: geocode failed on input {location} with message {ex}\")\n",
    "    except GeocoderTimedOut as ex:\n",
    "        print(f\"Error: geocode timed out on input {location} with message {ex}\")\n",
    "    except Exception as ex:\n",
    "        print(f\"An unhandled exception occurred while processing input {location} with message {ex}\")"
   ]
  },
  {
   "cell_type": "code",
   "execution_count": 5,
   "metadata": {
    "collapsed": false
   },
   "outputs": [
    {
     "data": {
      "text/plain": [
       "'Written map to talkmap/'"
      ]
     },
     "execution_count": 5,
     "metadata": {},
     "output_type": "execute_result"
    }
   ],
   "source": [
    "# Save the map\n",
    "m = getorg.orgmap.create_map_obj()\n",
    "getorg.orgmap.output_html_cluster_map(location_dict, folder_name=\"talkmap\", hashed_usernames=False)"
   ]
  },
  {
   "cell_type": "code",
   "execution_count": null,
   "metadata": {
    "collapsed": true
   },
   "outputs": [],
   "source": []
  }
 ],
 "metadata": {
  "anaconda-cloud": {},
  "kernelspec": {
   "display_name": "mie-scattering",
   "language": "python",
   "name": "python3"
  },
  "language_info": {
   "codemirror_mode": {
    "name": "ipython",
    "version": 3
   },
   "file_extension": ".py",
   "mimetype": "text/x-python",
   "name": "python",
   "nbconvert_exporter": "python",
   "pygments_lexer": "ipython3",
   "version": "3.9.23"
  }
 },
 "nbformat": 4,
 "nbformat_minor": 0
}
